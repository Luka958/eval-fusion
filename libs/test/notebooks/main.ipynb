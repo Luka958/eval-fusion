{
 "cells": [
  {
   "cell_type": "code",
   "execution_count": 1,
   "id": "121120c5",
   "metadata": {},
   "outputs": [],
   "source": [
    "from eval_fusion_core.enums import Feature\n",
    "from eval_fusion_core.utils.loaders import load_evaluation_inputs\n",
    "from eval_fusion_ragas.evaluator import RagasEvaluator\n",
    "from eval_fusion_ragas.metrics import RagasMetric\n",
    "from eval_fusion_test.settings import get_openai_settings"
   ]
  },
  {
   "cell_type": "code",
   "execution_count": null,
   "id": "63fecf1a",
   "metadata": {},
   "outputs": [],
   "source": [
    "def test_evaluator(input_count: int):\n",
    "    llm_settings, em_settings = get_openai_settings()\n",
    "    inputs = load_evaluation_inputs('../assets/amnesty_qa.json')\n",
    "    inputs = inputs[:input_count]\n",
    "\n",
    "    with RagasEvaluator(llm_settings, em_settings) as evaluator:\n",
    "        outputs = evaluator.evaluate(inputs, metrics=[RagasMetric.FAITHFULNESS])\n",
    "\n",
    "    for output in outputs:\n",
    "        for output_entry in output.output_entries:\n",
    "            print(output_entry, end='\\n\\n')"
   ]
  },
  {
   "cell_type": "code",
   "execution_count": null,
   "id": "45ad3f25",
   "metadata": {},
   "outputs": [
    {
     "name": "stdout",
     "output_type": "stream",
     "text": [
      "metric_name='faithfulness' score=0.84 reason=None error=None time=44.40238550002687\n",
      "\n",
      "metric_name='faithfulness' score=0.5172413793103449 reason=None error=None time=61.594070750055835\n",
      "\n",
      "metric_name='faithfulness' score=0.42857142857142855 reason=None error=None time=43.207843584008515\n",
      "\n"
     ]
    }
   ],
   "source": [
    "test_evaluator(3)  # 2.5 min"
   ]
  },
  {
   "cell_type": "code",
   "execution_count": 2,
   "id": "fbd7b046",
   "metadata": {},
   "outputs": [],
   "source": [
    "async def a_test_evaluator(input_count: int):\n",
    "    llm_settings, em_settings = get_openai_settings()\n",
    "    inputs = load_evaluation_inputs('../assets/amnesty_qa.json')\n",
    "    inputs = inputs[:input_count]\n",
    "\n",
    "    with RagasEvaluator(llm_settings, em_settings) as evaluator:\n",
    "        outputs = await evaluator.a_evaluate(inputs, metrics=[RagasMetric.FAITHFULNESS])\n",
    "\n",
    "    for output in outputs:\n",
    "        for output_entry in output.output_entries:\n",
    "            print(output_entry, end='\\n\\n')"
   ]
  },
  {
   "cell_type": "code",
   "execution_count": 3,
   "id": "436ceb2e",
   "metadata": {},
   "outputs": [
    {
     "name": "stdout",
     "output_type": "stream",
     "text": [
      "metric_name='faithfulness' score=0.68 reason=None error=None time=33.963236584095284\n",
      "\n",
      "metric_name='faithfulness' score=0.041666666666666664 reason=None error=None time=34.28584862500429\n",
      "\n",
      "metric_name='faithfulness' score=0.3076923076923077 reason=None error=None time=19.234456334030256\n",
      "\n"
     ]
    }
   ],
   "source": [
    "await a_test_evaluator(3)"
   ]
  }
 ],
 "metadata": {
  "kernelspec": {
   "display_name": "eval-fusion-test-py3.12",
   "language": "python",
   "name": "python3"
  },
  "language_info": {
   "codemirror_mode": {
    "name": "ipython",
    "version": 3
   },
   "file_extension": ".py",
   "mimetype": "text/x-python",
   "name": "python",
   "nbconvert_exporter": "python",
   "pygments_lexer": "ipython3",
   "version": "3.12.9"
  }
 },
 "nbformat": 4,
 "nbformat_minor": 5
}
