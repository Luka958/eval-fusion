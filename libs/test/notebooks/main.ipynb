{
 "cells": [
  {
   "cell_type": "code",
   "execution_count": 1,
   "id": "121120c5",
   "metadata": {},
   "outputs": [],
   "source": [
    "from eval_fusion_core.enums import Feature\n",
    "from eval_fusion_core.utils.loaders import load_evaluation_inputs\n",
    "from eval_fusion_ragas.evaluator import RagasEvaluator\n",
    "from eval_fusion_test.settings import get_openai_settings"
   ]
  },
  {
   "cell_type": "code",
   "execution_count": 2,
   "id": "63fecf1a",
   "metadata": {},
   "outputs": [],
   "source": [
    "def test_evaluator(input_count: int):\n",
    "    llm_settings, em_settings = get_openai_settings()\n",
    "    inputs = load_evaluation_inputs('../assets/amnesty_qa.json')\n",
    "\n",
    "    inputs = inputs[:input_count]\n",
    "    with RagasEvaluator(llm_settings, em_settings) as evaluator:\n",
    "        outputs = evaluator.evaluate(inputs, feature=Feature.ALL)\n",
    "\n",
    "    for output in outputs:\n",
    "        for output_entry in output.output_entries:\n",
    "            print(output_entry, end='\\n\\n')"
   ]
  },
  {
   "cell_type": "code",
   "execution_count": null,
   "id": "45ad3f25",
   "metadata": {},
   "outputs": [],
   "source": [
    "test_evaluator(1)"
   ]
  },
  {
   "cell_type": "code",
   "execution_count": null,
   "id": "db190588",
   "metadata": {},
   "outputs": [
    {
     "data": {
      "text/plain": [
       "LLMResult(generations=[[Generation(text='{\\n  \"result\": 4\\n}')]], llm_output=None, run=None, type='LLMResult')"
      ]
     },
     "execution_count": 6,
     "metadata": {},
     "output_type": "execute_result"
    }
   ],
   "source": [
    "from eval_fusion_ragas.llm import RagasProxyLLM\n",
    "from langchain_core.prompt_values import StringPromptValue\n",
    "\n",
    "\n",
    "llm_settings, em_settings = get_openai_settings()\n",
    "llm = RagasProxyLLM(llm_settings)\n",
    "prompt = StringPromptValue(text='what is 2+2, return json')\n",
    "llm.generate_text(prompt)"
   ]
  }
 ],
 "metadata": {
  "kernelspec": {
   "display_name": "eval-fusion-test-py3.12",
   "language": "python",
   "name": "python3"
  },
  "language_info": {
   "codemirror_mode": {
    "name": "ipython",
    "version": 3
   },
   "file_extension": ".py",
   "mimetype": "text/x-python",
   "name": "python",
   "nbconvert_exporter": "python",
   "pygments_lexer": "ipython3",
   "version": "3.12.9"
  }
 },
 "nbformat": 4,
 "nbformat_minor": 5
}
